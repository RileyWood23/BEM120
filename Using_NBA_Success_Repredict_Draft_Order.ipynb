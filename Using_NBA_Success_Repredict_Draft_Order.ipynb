{
  "nbformat": 4,
  "nbformat_minor": 0,
  "metadata": {
    "colab": {
      "provenance": []
    },
    "kernelspec": {
      "name": "python3",
      "display_name": "Python 3"
    },
    "language_info": {
      "name": "python"
    }
  },
  "cells": [
    {
      "cell_type": "code",
      "execution_count": null,
      "metadata": {
        "id": "RARrlzvt9BQY",
        "colab": {
          "base_uri": "https://localhost:8080/"
        },
        "outputId": "4f75338e-0532-4462-c310-9a0e45d54b1f"
      },
      "outputs": [
        {
          "output_type": "stream",
          "name": "stdout",
          "text": [
            "Drive already mounted at /content/drive; to attempt to forcibly remount, call drive.mount(\"/content/drive\", force_remount=True).\n"
          ]
        }
      ],
      "source": [
        "from google.colab import drive\n",
        "drive.mount('/content/drive')"
      ]
    },
    {
      "cell_type": "code",
      "source": [
        "#Change below to get to your file directory\n",
        "%cd drive/MyDrive/Caltech/Senior/BEM120"
      ],
      "metadata": {
        "colab": {
          "base_uri": "https://localhost:8080/"
        },
        "id": "MmJKT_72wFXo",
        "outputId": "519ca2ba-4dff-4e7f-8df8-95ade89eb177"
      },
      "execution_count": null,
      "outputs": [
        {
          "output_type": "stream",
          "name": "stdout",
          "text": [
            "[Errno 2] No such file or directory: 'drive/MyDrive/Caltech/Senior/BEM120'\n",
            "/content/drive/MyDrive/Caltech/Senior/BEM120\n"
          ]
        }
      ]
    },
    {
      "cell_type": "code",
      "source": [
        "import pandas as pd\n",
        "\n",
        "file_path = 'combine.csv'\n",
        "combine = pd.read_csv(file_path)\n",
        "\n",
        "file_path2 = 'college_stats.csv'\n",
        "college_stats = pd.read_csv(file_path2)\n",
        "\n",
        "file_path3 = 'draft_performance_rank.csv'\n",
        "new_draftpicks = pd.read_csv(file_path3)\n",
        "\n",
        "file_path4 = 'Reputation.xlsx'\n",
        "reputation = pd.read_excel(file_path4)\n",
        "\n",
        "file_path5 = 'Team_Success.xlsx'\n",
        "team_success = pd.read_excel(file_path5)"
      ],
      "metadata": {
        "id": "m9wfx6zBwGy9"
      },
      "execution_count": null,
      "outputs": []
    },
    {
      "cell_type": "code",
      "source": [
        "def convert_name(name):\n",
        "    parts = name.split(\", \")\n",
        "    if len(parts) == 2:\n",
        "        return f\"{parts[1]} {parts[0]}\"\n",
        "    return name\n",
        "\n",
        "combine['name'] = combine['PLAYER'].apply(convert_name)"
      ],
      "metadata": {
        "id": "XepqcsX1xU35"
      },
      "execution_count": null,
      "outputs": []
    },
    {
      "cell_type": "code",
      "source": [
        "# Last season in college_stats\n",
        "college_stats_sorted = college_stats.sort_values(by=['name', 'season'])\n",
        "college_last = college_stats_sorted.drop_duplicates(subset='name', keep='last')"
      ],
      "metadata": {
        "id": "6Ju-kPC7ybS9"
      },
      "execution_count": null,
      "outputs": []
    },
    {
      "cell_type": "code",
      "source": [
        "#Removed all players that don't have both college stats and combine stats\n",
        "merged_df = pd.merge(combine, college_last, on='name', how='inner')\n",
        "\n",
        "columns_to_prefix = [\n",
        "    'age', 'g', 'mp', 'fg', 'fga', 'fg3', 'fg3a', 'ft', 'fta',\n",
        "    'orb', 'trb', 'ast', 'stl', 'blk', 'tov', 'pf', 'pts',\n",
        "    'fg_pct', 'fg3_pct', 'ft_pct', 'mp_per_g', 'pts_per_g',\n",
        "    'trb_per_g', 'ast_per_g', 'player_html'\n",
        "]\n",
        "\n",
        "merged_df = merged_df.rename(columns={col: f\"college_{col}\" for col in columns_to_prefix})\n",
        "print(merged_df.columns)"
      ],
      "metadata": {
        "colab": {
          "base_uri": "https://localhost:8080/"
        },
        "id": "lpuRS8-vynjX",
        "outputId": "5a286e06-b6e3-44ae-85ab-1986bec39e05"
      },
      "execution_count": null,
      "outputs": [
        {
          "output_type": "stream",
          "name": "stdout",
          "text": [
            "Index(['YEAR', 'PLAYER', 'POS', 'HGT', 'WGT', 'BMI', 'BF', 'WNGSPN', 'STNDRCH',\n",
            "       'HANDL', 'HANDW', 'STNDVERT', 'LPVERT', 'LANE', 'SHUTTLE', 'SPRINT',\n",
            "       'BENCH', 'BAR', 'PAN', 'PBHGT', 'PDHGT', 'name', 'college_age',\n",
            "       'college_id', 'college_g', 'college_mp', 'college_fg', 'college_fga',\n",
            "       'college_fg3', 'college_fg3a', 'college_ft', 'college_fta',\n",
            "       'college_orb', 'college_trb', 'college_ast', 'college_stl',\n",
            "       'college_blk', 'college_tov', 'college_pf', 'college_pts',\n",
            "       'college_fg_pct', 'college_fg3_pct', 'college_ft_pct',\n",
            "       'college_mp_per_g', 'college_pts_per_g', 'college_trb_per_g',\n",
            "       'college_ast_per_g', 'college_player_html', 'season'],\n",
            "      dtype='object')\n"
          ]
        }
      ]
    },
    {
      "cell_type": "code",
      "source": [
        "# **WEBSCRAPING: Don't need to run it a second time - dataset is in folder\n",
        "#\n",
        "# import requests\n",
        "# from bs4 import BeautifulSoup\n",
        "# import io\n",
        "\n",
        "# years = list(range(2000, 2025))  # 2000 to 2024\n",
        "\n",
        "# base_url = \"https://www.basketball-reference.com/draft/NBA_{}.html\"\n",
        "\n",
        "# List to store dataframes\n",
        "# all_drafts = []\n",
        "\n",
        "# for year in years:\n",
        "#     url = base_url.format(year)\n",
        "#     response = requests.get(url)\n",
        "#     soup = BeautifulSoup(response.content, 'html.parser')\n",
        "#\n",
        "#     table = soup.find('table', {'id': 'stats'})\n",
        "#\n",
        "#     if table:\n",
        "#         try:\n",
        "#             df = pd.read_html(io.StringIO(str(table)))[0]\n",
        "#\n",
        "#             df.columns = [' '.join(col).strip() if isinstance(col, tuple) else col for col in df.columns]\n",
        "#\n",
        "#             player_col = [col for col in df.columns if 'Player' in col][0]\n",
        "#             df = df[df[player_col].notna()]\n",
        "#\n",
        "#             df = df.rename(columns={player_col: 'Player'})\n",
        "#\n",
        "#             df['Draft_Year'] = year\n",
        "#\n",
        "#             all_drafts.append(df)\n",
        "#         except Exception as e:\n",
        "#             print(f\"Error processing year {year}: {e}\")\n",
        "#     else:\n",
        "#         print(f\"Table not found for year {year}\")\n",
        "#\n",
        "# Combine all years into one DataFrame\n",
        "# combined_df = pd.concat(all_drafts, ignore_index=True)\n",
        "#\n",
        "# combined_df.to_csv('nba_draft_2000_2024.csv', index=False)\n",
        "#\n",
        "# print(combined_df.head())"
      ],
      "metadata": {
        "id": "CPssYNJC0RA8"
      },
      "execution_count": null,
      "outputs": []
    },
    {
      "cell_type": "code",
      "source": [
        "draft_df = new_draftpicks.rename(columns={'Player': 'name'})\n",
        "draft_prediction = pd.merge(merged_df, draft_df, on='name', how='inner')\n",
        "\n",
        "print(draft_prediction.head())\n",
        "print(f\"Total players in merged set: {len(draft_prediction)}\")"
      ],
      "metadata": {
        "colab": {
          "base_uri": "https://localhost:8080/"
        },
        "id": "C_frVJyF1LZZ",
        "outputId": "5779d5db-f483-48e1-919e-a683f3d4a74b"
      },
      "execution_count": null,
      "outputs": [
        {
          "output_type": "stream",
          "name": "stdout",
          "text": [
            "   YEAR               PLAYER POS    HGT    WGT    BMI     BF  WNGSPN  STNDRCH  \\\n",
            "0  2022        Davis, Johnny  PG  76.25  196.4  23.75  0.067   80.50    103.5   \n",
            "1  2021      Barnes, Scottie  SF  79.00  225.4  25.39  0.053   86.75    108.0   \n",
            "2  2021      Bassey, Charles   C  81.25  230.2  24.51  0.059   87.00    107.5   \n",
            "3  2021  Boston Jr., Brandon  SF  77.75  188.0  21.86  0.060   82.75    104.0   \n",
            "4  2021     Bouknight, James  SG  75.50  190.0  23.43  0.055   80.25    101.5   \n",
            "\n",
            "   HANDL  ...  college_fg3_pct  college_ft_pct  college_mp_per_g  \\\n",
            "0   8.50  ...              NaN           0.798              38.7   \n",
            "1   9.25  ...            0.275           0.621              24.8   \n",
            "2   9.00  ...            0.305           0.759              30.4   \n",
            "3   9.00  ...            0.300           0.785              30.4   \n",
            "4   8.75  ...            0.293           0.778              31.7   \n",
            "\n",
            "   college_pts_per_g  college_trb_per_g  college_ast_per_g  \\\n",
            "0               21.8                3.3                NaN   \n",
            "1               10.3                4.0                4.1   \n",
            "2               17.6               11.6                0.7   \n",
            "3               11.5                4.5                1.6   \n",
            "4               18.7                5.7                1.8   \n",
            "\n",
            "                                 college_player_html   season  Draft_Year  \\\n",
            "0  https://www.basketball-reference.com/players/d...  1975-76        2022   \n",
            "1  https://www.basketball-reference.com/players/b...  2020-21        2021   \n",
            "2  https://www.basketball-reference.com/players/b...  2020-21        2021   \n",
            "3  https://www.basketball-reference.com/players/b...  2020-21        2021   \n",
            "4  https://www.basketball-reference.com/players/b...  2020-21        2021   \n",
            "\n",
            "   performance_rank  \n",
            "0              29.0  \n",
            "1               6.0  \n",
            "2              28.0  \n",
            "3              40.0  \n",
            "4              38.0  \n",
            "\n",
            "[5 rows x 51 columns]\n",
            "Total players in merged set: 694\n"
          ]
        }
      ]
    },
    {
      "cell_type": "code",
      "source": [
        "columns_to_remove = ['PLAYER', 'Unnamed: 0_level_0 Rk']\n",
        "draft_prediction = draft_prediction.drop(columns=columns_to_remove, errors='ignore')\n",
        "\n",
        "col = 'name'\n",
        "draft_prediction = draft_prediction[[col] + [c for c in draft_prediction.columns if c != col]]\n",
        "\n",
        "draft_prediction = draft_prediction.rename(columns={\n",
        "    'Unnamed: 1_level_0 Pk': 'pick_number',\n",
        "    'Unnamed: 2_level_0 Tm': 'Team',\n",
        "    'Unnamed: 5_level_0 Yrs': 'career_length',\n",
        "    'Round 1 College': 'college_team'\n",
        "})"
      ],
      "metadata": {
        "id": "OuxjuD0a4jUZ"
      },
      "execution_count": null,
      "outputs": []
    },
    {
      "cell_type": "code",
      "source": [
        "print(draft_prediction.columns)"
      ],
      "metadata": {
        "colab": {
          "base_uri": "https://localhost:8080/"
        },
        "id": "p0lC9uEK5i7P",
        "outputId": "e16dbb31-5871-4348-9add-3bf150888cc5"
      },
      "execution_count": null,
      "outputs": [
        {
          "output_type": "stream",
          "name": "stdout",
          "text": [
            "Index(['name', 'YEAR', 'POS', 'HGT', 'WGT', 'BMI', 'BF', 'WNGSPN', 'STNDRCH',\n",
            "       'HANDL', 'HANDW', 'STNDVERT', 'LPVERT', 'LANE', 'SHUTTLE', 'SPRINT',\n",
            "       'BENCH', 'BAR', 'PAN', 'PBHGT', 'PDHGT', 'college_age', 'college_id',\n",
            "       'college_g', 'college_mp', 'college_fg', 'college_fga', 'college_fg3',\n",
            "       'college_fg3a', 'college_ft', 'college_fta', 'college_orb',\n",
            "       'college_trb', 'college_ast', 'college_stl', 'college_blk',\n",
            "       'college_tov', 'college_pf', 'college_pts', 'college_fg_pct',\n",
            "       'college_fg3_pct', 'college_ft_pct', 'college_mp_per_g',\n",
            "       'college_pts_per_g', 'college_trb_per_g', 'college_ast_per_g',\n",
            "       'college_player_html', 'season', 'Draft_Year', 'performance_rank'],\n",
            "      dtype='object')\n"
          ]
        }
      ]
    },
    {
      "cell_type": "code",
      "source": [
        "draft_prediction = draft_prediction[draft_prediction['YEAR'] < 2020]"
      ],
      "metadata": {
        "id": "-EVcdt_5hzfp"
      },
      "execution_count": null,
      "outputs": []
    },
    {
      "cell_type": "code",
      "source": [
        "columns_to_remove = ['career_length', 'Totals G', 'Totals MP', 'Totals PTS', 'Totals TRB',\n",
        "       'Totals AST', 'Shooting FG%', 'Shooting 3P%', 'Shooting FT%',\n",
        "       'Per Game MP', 'Per Game PTS', 'Per Game TRB', 'Per Game AST',\n",
        "       'Advanced WS', 'Advanced WS/48', 'Advanced BPM', 'Advanced VORP']\n",
        "draft_prediction = draft_prediction.drop(columns=columns_to_remove, errors='ignore')"
      ],
      "metadata": {
        "id": "50YXkkLjleDY"
      },
      "execution_count": null,
      "outputs": []
    },
    {
      "cell_type": "code",
      "source": [
        "print(len(draft_prediction))"
      ],
      "metadata": {
        "colab": {
          "base_uri": "https://localhost:8080/"
        },
        "id": "sd-U1jPfh-Iw",
        "outputId": "0ba36334-635c-466b-fa5a-c2eb68479362"
      },
      "execution_count": null,
      "outputs": [
        {
          "output_type": "stream",
          "name": "stdout",
          "text": [
            "636\n"
          ]
        }
      ]
    },
    {
      "cell_type": "code",
      "source": [
        "conference_map = {\n",
        "    'DUKE': 'ACC',\n",
        "    'UNC': 'ACC',\n",
        "    'VIRGINIA': 'ACC',\n",
        "    'MIAMIFL': 'ACC',\n",
        "    'WAKE': 'ACC',\n",
        "    'LOUISVILLE': 'ACC',\n",
        "    'FSU': 'ACC',\n",
        "    'SYRACUSE': 'ACC',\n",
        "    'GATECH': 'ACC',\n",
        "    'BOSTONCOLL': 'ACC',\n",
        "    'CLEMSON': 'ACC',\n",
        "    'NCSTATE': 'ACC',\n",
        "    'NOTREDAME': 'ACC',\n",
        "    'VATECH': 'ACC',\n",
        "\n",
        "    'KENTUCKY': 'SEC',\n",
        "    'TENNESSEE': 'SEC',\n",
        "    'FLORIDA': 'SEC',\n",
        "    'LSU': 'SEC',\n",
        "    'ALABAMA': 'SEC',\n",
        "    'MISSST': 'SEC',\n",
        "    'MISSOURI': 'SEC',\n",
        "    'TEXASAM': 'SEC',\n",
        "    'VANDY': 'SEC',\n",
        "    'GEORGIA': 'SEC',\n",
        "    'SFLORIDA': 'AAC',\n",
        "    'ARKANSAS': 'SEC',\n",
        "    'AUBURN': 'SEC',\n",
        "\n",
        "    'MICHIGAN': 'Big Ten',\n",
        "    'MICHIGANST': 'Big Ten',\n",
        "    'OHIOST': 'Big Ten',\n",
        "    'INDIANA': 'Big Ten',\n",
        "    'IOWA': 'Big Ten',\n",
        "    'PURDUE': 'Big Ten',\n",
        "    'MARYLAND': 'Big Ten',\n",
        "    'MINNESOTA': 'Big Ten',\n",
        "    'WISCONSIN': 'Big Ten',\n",
        "    'NEBRASKA': 'Big Ten',\n",
        "    'ILLINOIS': 'Big Ten',\n",
        "    'RUTGERS': 'Big Ten',\n",
        "    'NORTHWESTERN': 'Big Ten',\n",
        "    'UCLA': 'Big Ten',\n",
        "    'USC': 'Big Ten',\n",
        "\n",
        "    'UCLA': 'Pac-12',\n",
        "    'OREGON': 'Pac-12',\n",
        "    'OREGONST': 'Pac-12',\n",
        "    'STANFORD': 'Pac-12',\n",
        "    'ARIZONA': 'Pac-12',\n",
        "    'ARIZONAST': 'Pac-12',\n",
        "    'USC': 'Pac-12',\n",
        "    'COLORADO': 'Pac-12',\n",
        "    'UTAH': 'Pac-12',\n",
        "    'CALIFORNIA': 'Pac-12',\n",
        "    'WASHST': 'Pac-12',\n",
        "    'WASHINGTON': 'Pac-12',\n",
        "\n",
        "    'KANSAS': 'Big 12',\n",
        "    'BAYLOR': 'Big 12',\n",
        "    'TEXAS': 'Big 12',\n",
        "    'TXTECH': 'Big 12',\n",
        "    'OKLAHOMA': 'Big 12',\n",
        "    'OKSTATE': 'Big 12',\n",
        "    'KANSASST': 'Big 12',\n",
        "    'TCU': 'Big 12',\n",
        "    'IOWAST': 'Big 12',\n",
        "    'WESTVIRGINIA': 'Big 12',\n",
        "\n",
        "    'GONZAGA': 'WCC',\n",
        "    'STMARYSCA': 'WCC',\n",
        "    'PEPPERDINE': 'WCC',\n",
        "    'BYU': 'Big 12',\n",
        "\n",
        "    'UCONN': 'Big East',\n",
        "    'VILLANOVA': 'Big East',\n",
        "    'XAVIER': 'Big East',\n",
        "    'CREIGHTON': 'Big East',\n",
        "    'SETONHALL': 'Big East',\n",
        "    'DEPAUL': 'Big East',\n",
        "    'GEORGETOWN': 'Big East',\n",
        "    'PROVIDENCE': 'Big East',\n",
        "    'STJOHNS': 'Big East',\n",
        "    'MARQUETTE': 'Big East',\n",
        "    'BUTLER': 'Big East',\n",
        "\n",
        "    'MEMPHIS': 'AAC',\n",
        "    'HOUSTON': 'Big 12',\n",
        "    'SMETHODIST': 'AAC',\n",
        "    'TULANE': 'AAC',\n",
        "    'TEMPLE': 'AAC',\n",
        "    'TULSA': 'AAC',\n",
        "    'CFLORIDA': 'Big 12',\n",
        "\n",
        "    'YALE': 'Ivy League',\n",
        "    'LEHIGH': 'Patriot League',\n",
        "    'BUCKNELL': 'Patriot League',\n",
        "    'WEBERST': 'Big Sky',\n",
        "    'DAVIDSON': 'A-10',\n",
        "    'VCU': 'A-10',\n",
        "    'RICHMOND': 'A-10',\n",
        "    'DAYTON': 'A-10',\n",
        "    'STBONNY': 'A-10',\n",
        "    'LASALLE': 'A-10',\n",
        "    'GEORGIAST': 'Sun Belt',\n",
        "    'ULALA': 'Sun Belt',\n",
        "    'MURRAYST': 'MVC',\n",
        "    'VALPO': 'MVC',\n",
        "    'TNTECH': 'OVC',\n",
        "    'TNMARTIN': 'OVC',\n",
        "    'MOREHEAD': 'OVC',\n",
        "    'BELMONT': 'MVC',\n",
        "    'UNLV': 'Mountain West',\n",
        "    'NEVADA': 'Mountain West',\n",
        "    'NMEXICO': 'Mountain West',\n",
        "    'SANDIEGOST': 'Mountain West',\n",
        "    'COLORADOST': 'Mountain West',\n",
        "    'FRESNOST': 'Mountain West',\n",
        "    'UCSB': 'Big West',\n",
        "    'CALSTFULL': 'Big West',\n",
        "}\n",
        "\n",
        "draft_prediction['Conference'] = draft_prediction['college_id'].map(conference_map).fillna('Unknown')\n",
        "\n",
        "print(draft_prediction.head())"
      ],
      "metadata": {
        "colab": {
          "base_uri": "https://localhost:8080/"
        },
        "id": "Wp4WsGkj_N6O",
        "outputId": "456b2536-faa4-4228-eed8-cc8d96a8d8fd"
      },
      "execution_count": null,
      "outputs": [
        {
          "output_type": "stream",
          "name": "stdout",
          "text": [
            "                        name  YEAR POS    HGT    WGT    BMI     BF  WNGSPN  \\\n",
            "58  Nickeil Alexander-Walker  2019  SG  76.25  203.8  24.64  0.059   81.50   \n",
            "59                   Bol Bol  2019   C  84.75  208.0  20.36  0.071   91.00   \n",
            "60               Jordan Bone  2019  SG  73.50  179.0  23.29  0.050   75.25   \n",
            "61          Ignas Brazdeikis  2019  SF  77.75  220.8  25.68  0.060   81.25   \n",
            "62            Brandon Clarke  2019  SF  79.25  207.2  23.19  0.049   80.25   \n",
            "\n",
            "    STNDRCH  HANDL  ...  college_ft_pct  college_mp_per_g  college_pts_per_g  \\\n",
            "58    102.0   8.50  ...           0.778              34.3               16.2   \n",
            "59    115.5   9.25  ...           0.757              29.8               21.0   \n",
            "60     95.0   7.50  ...           0.835              32.9               13.5   \n",
            "61    102.0   8.75  ...           0.773              29.6               14.8   \n",
            "62    102.0   8.25  ...           0.694              28.1               16.9   \n",
            "\n",
            "    college_trb_per_g  college_ast_per_g  \\\n",
            "58                4.1                4.0   \n",
            "59                9.6                1.0   \n",
            "60                3.2                5.8   \n",
            "61                5.4                0.8   \n",
            "62                8.6                1.9   \n",
            "\n",
            "                                  college_player_html   season  Draft_Year  \\\n",
            "58  https://www.basketball-reference.com/players/a...  2018-19        2019   \n",
            "59  https://www.basketball-reference.com/players/b...  2018-19        2019   \n",
            "60  https://www.basketball-reference.com/players/b...  2018-19        2019   \n",
            "61  https://www.basketball-reference.com/players/b...  2018-19        2019   \n",
            "62  https://www.basketball-reference.com/players/c...  2018-19        2019   \n",
            "\n",
            "    performance_rank  Conference  \n",
            "58              20.0         ACC  \n",
            "59              44.0      Pac-12  \n",
            "60              42.0         SEC  \n",
            "61              34.0     Big Ten  \n",
            "62              14.0         WCC  \n",
            "\n",
            "[5 rows x 51 columns]\n"
          ]
        }
      ]
    },
    {
      "cell_type": "code",
      "source": [
        "reputation['ReputationScore'] = (\n",
        "    0.6 * reputation['Percentage'] +\n",
        "    0.4 * (reputation['Championships since 1985'] / reputation['Championships since 1985'].max())\n",
        ")\n",
        "print(reputation.head())"
      ],
      "metadata": {
        "colab": {
          "base_uri": "https://localhost:8080/"
        },
        "id": "jSHHWV4rDydc",
        "outputId": "9d5979fb-4ebb-45f3-ee4b-98880124a71c"
      },
      "execution_count": null,
      "outputs": [
        {
          "output_type": "stream",
          "name": "stdout",
          "text": [
            "  Conference  Total wins  Total losses  Percentage  Championships since 1985  \\\n",
            "0        ACC         270           136       0.665                        10   \n",
            "1        SEC         209           129       0.618                         6   \n",
            "2    Big Ten         243           160       0.603                         3   \n",
            "3   Big East         242           162       0.599                         8   \n",
            "4     Big 12         155           113       0.578                         1   \n",
            "\n",
            "   ReputationScore  \n",
            "0           0.7990  \n",
            "1           0.6108  \n",
            "2           0.4818  \n",
            "3           0.6794  \n",
            "4           0.3868  \n"
          ]
        }
      ]
    },
    {
      "cell_type": "code",
      "source": [
        "rep_df = reputation[['Conference', 'ReputationScore']]\n",
        "\n",
        "draft_prediction = draft_prediction.merge(rep_df, on='Conference', how='left')"
      ],
      "metadata": {
        "id": "bOeqR2wTDyfX"
      },
      "execution_count": null,
      "outputs": []
    },
    {
      "cell_type": "code",
      "source": [
        "draft_prediction['ReputationScore'] = draft_prediction['ReputationScore'].fillna(0)"
      ],
      "metadata": {
        "id": "Lx5CrE5NIgCC"
      },
      "execution_count": null,
      "outputs": []
    },
    {
      "cell_type": "code",
      "source": [
        "cols_to_drop = ['SHUTTLE', 'HANDL', 'HANDW', 'PAN']\n",
        "\n",
        "draft_prediction = draft_prediction.drop(columns=cols_to_drop)"
      ],
      "metadata": {
        "id": "1crxY4liI7Fq"
      },
      "execution_count": null,
      "outputs": []
    },
    {
      "cell_type": "code",
      "source": [
        "missing_counts = draft_prediction.isnull().sum().sort_values(ascending=False)\n",
        "missing_counts = missing_counts[missing_counts > 0]\n",
        "print(missing_counts)"
      ],
      "metadata": {
        "colab": {
          "base_uri": "https://localhost:8080/"
        },
        "id": "sth0KWNSY4wA",
        "outputId": "2d8cae7e-d2e3-4af4-99e7-e761027cda1b"
      },
      "execution_count": null,
      "outputs": [
        {
          "output_type": "stream",
          "name": "stdout",
          "text": [
            "BENCH               140\n",
            "LANE                 86\n",
            "SPRINT               81\n",
            "LPVERT               78\n",
            "PDHGT                78\n",
            "BF                   77\n",
            "STNDVERT             76\n",
            "PBHGT                76\n",
            "college_fg3_pct      56\n",
            "college_orb          17\n",
            "BMI                   3\n",
            "college_tov           3\n",
            "college_blk           3\n",
            "college_stl           3\n",
            "college_pf            3\n",
            "WGT                   3\n",
            "college_mp_per_g      1\n",
            "STNDRCH               1\n",
            "HGT                   1\n",
            "BAR                   1\n",
            "POS                   1\n",
            "college_mp            1\n",
            "dtype: int64\n"
          ]
        }
      ]
    },
    {
      "cell_type": "code",
      "source": [
        "columns_to_check = [\n",
        "    'BENCH', 'LANE', 'SPRINT',\n",
        "    'PDHGT', 'LPVERT', 'PBHGT', 'STNDVERT', 'BF'\n",
        "]\n",
        "\n",
        "missing_by_year = draft_prediction.groupby('YEAR')[columns_to_check].apply(lambda group: group.isnull().sum())\n",
        "missing_by_year"
      ],
      "metadata": {
        "colab": {
          "base_uri": "https://localhost:8080/",
          "height": 708
        },
        "id": "qpGXSz9qZxRS",
        "outputId": "78bdd803-efca-4899-a2c2-44a50d5a11b1"
      },
      "execution_count": null,
      "outputs": [
        {
          "output_type": "execute_result",
          "data": {
            "text/plain": [
              "      BENCH  LANE  SPRINT  PDHGT  LPVERT  PBHGT  STNDVERT  BF\n",
              "YEAR                                                         \n",
              "2000      0     2       3      2       2      2         2  15\n",
              "2001      0     1       0      0       0      0         0   1\n",
              "2002      2     1       1      1       1      1         1  28\n",
              "2003      1     2       2      2       2      1         1   0\n",
              "2004      1     2       2      2       2      2         2   1\n",
              "2005      3     4       3      3       3      3         3  29\n",
              "2006      2     0       0      0       0      0         0   0\n",
              "2007      1     0       0      0       0      0         0   0\n",
              "2008      0     2       2      2       2      1         1   0\n",
              "2009      3     2       2      2       2      2         2   0\n",
              "2010      6     4       4      4       4      4         4   0\n",
              "2011      3     4       1      1       1      1         1   0\n",
              "2012      6     6       5      4       4      4         4   0\n",
              "2013      6     8       8      8       8      8         8   0\n",
              "2014     34     6       6      5       5      5         5   0\n",
              "2015     11    10      10     10      10     10        10   0\n",
              "2016     32     8       8      8       8      8         8   1\n",
              "2017      9     9       9      9       9      9         9   1\n",
              "2018      9     7       7      7       7      7         7   0\n",
              "2019     11     8       8      8       8      8         8   1"
            ],
            "text/html": [
              "\n",
              "  <div id=\"df-5a22def8-b508-42dd-822e-ab586249c073\" class=\"colab-df-container\">\n",
              "    <div>\n",
              "<style scoped>\n",
              "    .dataframe tbody tr th:only-of-type {\n",
              "        vertical-align: middle;\n",
              "    }\n",
              "\n",
              "    .dataframe tbody tr th {\n",
              "        vertical-align: top;\n",
              "    }\n",
              "\n",
              "    .dataframe thead th {\n",
              "        text-align: right;\n",
              "    }\n",
              "</style>\n",
              "<table border=\"1\" class=\"dataframe\">\n",
              "  <thead>\n",
              "    <tr style=\"text-align: right;\">\n",
              "      <th></th>\n",
              "      <th>BENCH</th>\n",
              "      <th>LANE</th>\n",
              "      <th>SPRINT</th>\n",
              "      <th>PDHGT</th>\n",
              "      <th>LPVERT</th>\n",
              "      <th>PBHGT</th>\n",
              "      <th>STNDVERT</th>\n",
              "      <th>BF</th>\n",
              "    </tr>\n",
              "    <tr>\n",
              "      <th>YEAR</th>\n",
              "      <th></th>\n",
              "      <th></th>\n",
              "      <th></th>\n",
              "      <th></th>\n",
              "      <th></th>\n",
              "      <th></th>\n",
              "      <th></th>\n",
              "      <th></th>\n",
              "    </tr>\n",
              "  </thead>\n",
              "  <tbody>\n",
              "    <tr>\n",
              "      <th>2000</th>\n",
              "      <td>0</td>\n",
              "      <td>2</td>\n",
              "      <td>3</td>\n",
              "      <td>2</td>\n",
              "      <td>2</td>\n",
              "      <td>2</td>\n",
              "      <td>2</td>\n",
              "      <td>15</td>\n",
              "    </tr>\n",
              "    <tr>\n",
              "      <th>2001</th>\n",
              "      <td>0</td>\n",
              "      <td>1</td>\n",
              "      <td>0</td>\n",
              "      <td>0</td>\n",
              "      <td>0</td>\n",
              "      <td>0</td>\n",
              "      <td>0</td>\n",
              "      <td>1</td>\n",
              "    </tr>\n",
              "    <tr>\n",
              "      <th>2002</th>\n",
              "      <td>2</td>\n",
              "      <td>1</td>\n",
              "      <td>1</td>\n",
              "      <td>1</td>\n",
              "      <td>1</td>\n",
              "      <td>1</td>\n",
              "      <td>1</td>\n",
              "      <td>28</td>\n",
              "    </tr>\n",
              "    <tr>\n",
              "      <th>2003</th>\n",
              "      <td>1</td>\n",
              "      <td>2</td>\n",
              "      <td>2</td>\n",
              "      <td>2</td>\n",
              "      <td>2</td>\n",
              "      <td>1</td>\n",
              "      <td>1</td>\n",
              "      <td>0</td>\n",
              "    </tr>\n",
              "    <tr>\n",
              "      <th>2004</th>\n",
              "      <td>1</td>\n",
              "      <td>2</td>\n",
              "      <td>2</td>\n",
              "      <td>2</td>\n",
              "      <td>2</td>\n",
              "      <td>2</td>\n",
              "      <td>2</td>\n",
              "      <td>1</td>\n",
              "    </tr>\n",
              "    <tr>\n",
              "      <th>2005</th>\n",
              "      <td>3</td>\n",
              "      <td>4</td>\n",
              "      <td>3</td>\n",
              "      <td>3</td>\n",
              "      <td>3</td>\n",
              "      <td>3</td>\n",
              "      <td>3</td>\n",
              "      <td>29</td>\n",
              "    </tr>\n",
              "    <tr>\n",
              "      <th>2006</th>\n",
              "      <td>2</td>\n",
              "      <td>0</td>\n",
              "      <td>0</td>\n",
              "      <td>0</td>\n",
              "      <td>0</td>\n",
              "      <td>0</td>\n",
              "      <td>0</td>\n",
              "      <td>0</td>\n",
              "    </tr>\n",
              "    <tr>\n",
              "      <th>2007</th>\n",
              "      <td>1</td>\n",
              "      <td>0</td>\n",
              "      <td>0</td>\n",
              "      <td>0</td>\n",
              "      <td>0</td>\n",
              "      <td>0</td>\n",
              "      <td>0</td>\n",
              "      <td>0</td>\n",
              "    </tr>\n",
              "    <tr>\n",
              "      <th>2008</th>\n",
              "      <td>0</td>\n",
              "      <td>2</td>\n",
              "      <td>2</td>\n",
              "      <td>2</td>\n",
              "      <td>2</td>\n",
              "      <td>1</td>\n",
              "      <td>1</td>\n",
              "      <td>0</td>\n",
              "    </tr>\n",
              "    <tr>\n",
              "      <th>2009</th>\n",
              "      <td>3</td>\n",
              "      <td>2</td>\n",
              "      <td>2</td>\n",
              "      <td>2</td>\n",
              "      <td>2</td>\n",
              "      <td>2</td>\n",
              "      <td>2</td>\n",
              "      <td>0</td>\n",
              "    </tr>\n",
              "    <tr>\n",
              "      <th>2010</th>\n",
              "      <td>6</td>\n",
              "      <td>4</td>\n",
              "      <td>4</td>\n",
              "      <td>4</td>\n",
              "      <td>4</td>\n",
              "      <td>4</td>\n",
              "      <td>4</td>\n",
              "      <td>0</td>\n",
              "    </tr>\n",
              "    <tr>\n",
              "      <th>2011</th>\n",
              "      <td>3</td>\n",
              "      <td>4</td>\n",
              "      <td>1</td>\n",
              "      <td>1</td>\n",
              "      <td>1</td>\n",
              "      <td>1</td>\n",
              "      <td>1</td>\n",
              "      <td>0</td>\n",
              "    </tr>\n",
              "    <tr>\n",
              "      <th>2012</th>\n",
              "      <td>6</td>\n",
              "      <td>6</td>\n",
              "      <td>5</td>\n",
              "      <td>4</td>\n",
              "      <td>4</td>\n",
              "      <td>4</td>\n",
              "      <td>4</td>\n",
              "      <td>0</td>\n",
              "    </tr>\n",
              "    <tr>\n",
              "      <th>2013</th>\n",
              "      <td>6</td>\n",
              "      <td>8</td>\n",
              "      <td>8</td>\n",
              "      <td>8</td>\n",
              "      <td>8</td>\n",
              "      <td>8</td>\n",
              "      <td>8</td>\n",
              "      <td>0</td>\n",
              "    </tr>\n",
              "    <tr>\n",
              "      <th>2014</th>\n",
              "      <td>34</td>\n",
              "      <td>6</td>\n",
              "      <td>6</td>\n",
              "      <td>5</td>\n",
              "      <td>5</td>\n",
              "      <td>5</td>\n",
              "      <td>5</td>\n",
              "      <td>0</td>\n",
              "    </tr>\n",
              "    <tr>\n",
              "      <th>2015</th>\n",
              "      <td>11</td>\n",
              "      <td>10</td>\n",
              "      <td>10</td>\n",
              "      <td>10</td>\n",
              "      <td>10</td>\n",
              "      <td>10</td>\n",
              "      <td>10</td>\n",
              "      <td>0</td>\n",
              "    </tr>\n",
              "    <tr>\n",
              "      <th>2016</th>\n",
              "      <td>32</td>\n",
              "      <td>8</td>\n",
              "      <td>8</td>\n",
              "      <td>8</td>\n",
              "      <td>8</td>\n",
              "      <td>8</td>\n",
              "      <td>8</td>\n",
              "      <td>1</td>\n",
              "    </tr>\n",
              "    <tr>\n",
              "      <th>2017</th>\n",
              "      <td>9</td>\n",
              "      <td>9</td>\n",
              "      <td>9</td>\n",
              "      <td>9</td>\n",
              "      <td>9</td>\n",
              "      <td>9</td>\n",
              "      <td>9</td>\n",
              "      <td>1</td>\n",
              "    </tr>\n",
              "    <tr>\n",
              "      <th>2018</th>\n",
              "      <td>9</td>\n",
              "      <td>7</td>\n",
              "      <td>7</td>\n",
              "      <td>7</td>\n",
              "      <td>7</td>\n",
              "      <td>7</td>\n",
              "      <td>7</td>\n",
              "      <td>0</td>\n",
              "    </tr>\n",
              "    <tr>\n",
              "      <th>2019</th>\n",
              "      <td>11</td>\n",
              "      <td>8</td>\n",
              "      <td>8</td>\n",
              "      <td>8</td>\n",
              "      <td>8</td>\n",
              "      <td>8</td>\n",
              "      <td>8</td>\n",
              "      <td>1</td>\n",
              "    </tr>\n",
              "  </tbody>\n",
              "</table>\n",
              "</div>\n",
              "    <div class=\"colab-df-buttons\">\n",
              "\n",
              "  <div class=\"colab-df-container\">\n",
              "    <button class=\"colab-df-convert\" onclick=\"convertToInteractive('df-5a22def8-b508-42dd-822e-ab586249c073')\"\n",
              "            title=\"Convert this dataframe to an interactive table.\"\n",
              "            style=\"display:none;\">\n",
              "\n",
              "  <svg xmlns=\"http://www.w3.org/2000/svg\" height=\"24px\" viewBox=\"0 -960 960 960\">\n",
              "    <path d=\"M120-120v-720h720v720H120Zm60-500h600v-160H180v160Zm220 220h160v-160H400v160Zm0 220h160v-160H400v160ZM180-400h160v-160H180v160Zm440 0h160v-160H620v160ZM180-180h160v-160H180v160Zm440 0h160v-160H620v160Z\"/>\n",
              "  </svg>\n",
              "    </button>\n",
              "\n",
              "  <style>\n",
              "    .colab-df-container {\n",
              "      display:flex;\n",
              "      gap: 12px;\n",
              "    }\n",
              "\n",
              "    .colab-df-convert {\n",
              "      background-color: #E8F0FE;\n",
              "      border: none;\n",
              "      border-radius: 50%;\n",
              "      cursor: pointer;\n",
              "      display: none;\n",
              "      fill: #1967D2;\n",
              "      height: 32px;\n",
              "      padding: 0 0 0 0;\n",
              "      width: 32px;\n",
              "    }\n",
              "\n",
              "    .colab-df-convert:hover {\n",
              "      background-color: #E2EBFA;\n",
              "      box-shadow: 0px 1px 2px rgba(60, 64, 67, 0.3), 0px 1px 3px 1px rgba(60, 64, 67, 0.15);\n",
              "      fill: #174EA6;\n",
              "    }\n",
              "\n",
              "    .colab-df-buttons div {\n",
              "      margin-bottom: 4px;\n",
              "    }\n",
              "\n",
              "    [theme=dark] .colab-df-convert {\n",
              "      background-color: #3B4455;\n",
              "      fill: #D2E3FC;\n",
              "    }\n",
              "\n",
              "    [theme=dark] .colab-df-convert:hover {\n",
              "      background-color: #434B5C;\n",
              "      box-shadow: 0px 1px 3px 1px rgba(0, 0, 0, 0.15);\n",
              "      filter: drop-shadow(0px 1px 2px rgba(0, 0, 0, 0.3));\n",
              "      fill: #FFFFFF;\n",
              "    }\n",
              "  </style>\n",
              "\n",
              "    <script>\n",
              "      const buttonEl =\n",
              "        document.querySelector('#df-5a22def8-b508-42dd-822e-ab586249c073 button.colab-df-convert');\n",
              "      buttonEl.style.display =\n",
              "        google.colab.kernel.accessAllowed ? 'block' : 'none';\n",
              "\n",
              "      async function convertToInteractive(key) {\n",
              "        const element = document.querySelector('#df-5a22def8-b508-42dd-822e-ab586249c073');\n",
              "        const dataTable =\n",
              "          await google.colab.kernel.invokeFunction('convertToInteractive',\n",
              "                                                    [key], {});\n",
              "        if (!dataTable) return;\n",
              "\n",
              "        const docLinkHtml = 'Like what you see? Visit the ' +\n",
              "          '<a target=\"_blank\" href=https://colab.research.google.com/notebooks/data_table.ipynb>data table notebook</a>'\n",
              "          + ' to learn more about interactive tables.';\n",
              "        element.innerHTML = '';\n",
              "        dataTable['output_type'] = 'display_data';\n",
              "        await google.colab.output.renderOutput(dataTable, element);\n",
              "        const docLink = document.createElement('div');\n",
              "        docLink.innerHTML = docLinkHtml;\n",
              "        element.appendChild(docLink);\n",
              "      }\n",
              "    </script>\n",
              "  </div>\n",
              "\n",
              "\n",
              "    <div id=\"df-4739f1a9-7fe8-4a22-a752-e507ce708b4c\">\n",
              "      <button class=\"colab-df-quickchart\" onclick=\"quickchart('df-4739f1a9-7fe8-4a22-a752-e507ce708b4c')\"\n",
              "                title=\"Suggest charts\"\n",
              "                style=\"display:none;\">\n",
              "\n",
              "<svg xmlns=\"http://www.w3.org/2000/svg\" height=\"24px\"viewBox=\"0 0 24 24\"\n",
              "     width=\"24px\">\n",
              "    <g>\n",
              "        <path d=\"M19 3H5c-1.1 0-2 .9-2 2v14c0 1.1.9 2 2 2h14c1.1 0 2-.9 2-2V5c0-1.1-.9-2-2-2zM9 17H7v-7h2v7zm4 0h-2V7h2v10zm4 0h-2v-4h2v4z\"/>\n",
              "    </g>\n",
              "</svg>\n",
              "      </button>\n",
              "\n",
              "<style>\n",
              "  .colab-df-quickchart {\n",
              "      --bg-color: #E8F0FE;\n",
              "      --fill-color: #1967D2;\n",
              "      --hover-bg-color: #E2EBFA;\n",
              "      --hover-fill-color: #174EA6;\n",
              "      --disabled-fill-color: #AAA;\n",
              "      --disabled-bg-color: #DDD;\n",
              "  }\n",
              "\n",
              "  [theme=dark] .colab-df-quickchart {\n",
              "      --bg-color: #3B4455;\n",
              "      --fill-color: #D2E3FC;\n",
              "      --hover-bg-color: #434B5C;\n",
              "      --hover-fill-color: #FFFFFF;\n",
              "      --disabled-bg-color: #3B4455;\n",
              "      --disabled-fill-color: #666;\n",
              "  }\n",
              "\n",
              "  .colab-df-quickchart {\n",
              "    background-color: var(--bg-color);\n",
              "    border: none;\n",
              "    border-radius: 50%;\n",
              "    cursor: pointer;\n",
              "    display: none;\n",
              "    fill: var(--fill-color);\n",
              "    height: 32px;\n",
              "    padding: 0;\n",
              "    width: 32px;\n",
              "  }\n",
              "\n",
              "  .colab-df-quickchart:hover {\n",
              "    background-color: var(--hover-bg-color);\n",
              "    box-shadow: 0 1px 2px rgba(60, 64, 67, 0.3), 0 1px 3px 1px rgba(60, 64, 67, 0.15);\n",
              "    fill: var(--button-hover-fill-color);\n",
              "  }\n",
              "\n",
              "  .colab-df-quickchart-complete:disabled,\n",
              "  .colab-df-quickchart-complete:disabled:hover {\n",
              "    background-color: var(--disabled-bg-color);\n",
              "    fill: var(--disabled-fill-color);\n",
              "    box-shadow: none;\n",
              "  }\n",
              "\n",
              "  .colab-df-spinner {\n",
              "    border: 2px solid var(--fill-color);\n",
              "    border-color: transparent;\n",
              "    border-bottom-color: var(--fill-color);\n",
              "    animation:\n",
              "      spin 1s steps(1) infinite;\n",
              "  }\n",
              "\n",
              "  @keyframes spin {\n",
              "    0% {\n",
              "      border-color: transparent;\n",
              "      border-bottom-color: var(--fill-color);\n",
              "      border-left-color: var(--fill-color);\n",
              "    }\n",
              "    20% {\n",
              "      border-color: transparent;\n",
              "      border-left-color: var(--fill-color);\n",
              "      border-top-color: var(--fill-color);\n",
              "    }\n",
              "    30% {\n",
              "      border-color: transparent;\n",
              "      border-left-color: var(--fill-color);\n",
              "      border-top-color: var(--fill-color);\n",
              "      border-right-color: var(--fill-color);\n",
              "    }\n",
              "    40% {\n",
              "      border-color: transparent;\n",
              "      border-right-color: var(--fill-color);\n",
              "      border-top-color: var(--fill-color);\n",
              "    }\n",
              "    60% {\n",
              "      border-color: transparent;\n",
              "      border-right-color: var(--fill-color);\n",
              "    }\n",
              "    80% {\n",
              "      border-color: transparent;\n",
              "      border-right-color: var(--fill-color);\n",
              "      border-bottom-color: var(--fill-color);\n",
              "    }\n",
              "    90% {\n",
              "      border-color: transparent;\n",
              "      border-bottom-color: var(--fill-color);\n",
              "    }\n",
              "  }\n",
              "</style>\n",
              "\n",
              "      <script>\n",
              "        async function quickchart(key) {\n",
              "          const quickchartButtonEl =\n",
              "            document.querySelector('#' + key + ' button');\n",
              "          quickchartButtonEl.disabled = true;  // To prevent multiple clicks.\n",
              "          quickchartButtonEl.classList.add('colab-df-spinner');\n",
              "          try {\n",
              "            const charts = await google.colab.kernel.invokeFunction(\n",
              "                'suggestCharts', [key], {});\n",
              "          } catch (error) {\n",
              "            console.error('Error during call to suggestCharts:', error);\n",
              "          }\n",
              "          quickchartButtonEl.classList.remove('colab-df-spinner');\n",
              "          quickchartButtonEl.classList.add('colab-df-quickchart-complete');\n",
              "        }\n",
              "        (() => {\n",
              "          let quickchartButtonEl =\n",
              "            document.querySelector('#df-4739f1a9-7fe8-4a22-a752-e507ce708b4c button');\n",
              "          quickchartButtonEl.style.display =\n",
              "            google.colab.kernel.accessAllowed ? 'block' : 'none';\n",
              "        })();\n",
              "      </script>\n",
              "    </div>\n",
              "\n",
              "  <div id=\"id_34076ca4-b948-49c7-a089-f7fb0bc075fe\">\n",
              "    <style>\n",
              "      .colab-df-generate {\n",
              "        background-color: #E8F0FE;\n",
              "        border: none;\n",
              "        border-radius: 50%;\n",
              "        cursor: pointer;\n",
              "        display: none;\n",
              "        fill: #1967D2;\n",
              "        height: 32px;\n",
              "        padding: 0 0 0 0;\n",
              "        width: 32px;\n",
              "      }\n",
              "\n",
              "      .colab-df-generate:hover {\n",
              "        background-color: #E2EBFA;\n",
              "        box-shadow: 0px 1px 2px rgba(60, 64, 67, 0.3), 0px 1px 3px 1px rgba(60, 64, 67, 0.15);\n",
              "        fill: #174EA6;\n",
              "      }\n",
              "\n",
              "      [theme=dark] .colab-df-generate {\n",
              "        background-color: #3B4455;\n",
              "        fill: #D2E3FC;\n",
              "      }\n",
              "\n",
              "      [theme=dark] .colab-df-generate:hover {\n",
              "        background-color: #434B5C;\n",
              "        box-shadow: 0px 1px 3px 1px rgba(0, 0, 0, 0.15);\n",
              "        filter: drop-shadow(0px 1px 2px rgba(0, 0, 0, 0.3));\n",
              "        fill: #FFFFFF;\n",
              "      }\n",
              "    </style>\n",
              "    <button class=\"colab-df-generate\" onclick=\"generateWithVariable('missing_by_year')\"\n",
              "            title=\"Generate code using this dataframe.\"\n",
              "            style=\"display:none;\">\n",
              "\n",
              "  <svg xmlns=\"http://www.w3.org/2000/svg\" height=\"24px\"viewBox=\"0 0 24 24\"\n",
              "       width=\"24px\">\n",
              "    <path d=\"M7,19H8.4L18.45,9,17,7.55,7,17.6ZM5,21V16.75L18.45,3.32a2,2,0,0,1,2.83,0l1.4,1.43a1.91,1.91,0,0,1,.58,1.4,1.91,1.91,0,0,1-.58,1.4L9.25,21ZM18.45,9,17,7.55Zm-12,3A5.31,5.31,0,0,0,4.9,8.1,5.31,5.31,0,0,0,1,6.5,5.31,5.31,0,0,0,4.9,4.9,5.31,5.31,0,0,0,6.5,1,5.31,5.31,0,0,0,8.1,4.9,5.31,5.31,0,0,0,12,6.5,5.46,5.46,0,0,0,6.5,12Z\"/>\n",
              "  </svg>\n",
              "    </button>\n",
              "    <script>\n",
              "      (() => {\n",
              "      const buttonEl =\n",
              "        document.querySelector('#id_34076ca4-b948-49c7-a089-f7fb0bc075fe button.colab-df-generate');\n",
              "      buttonEl.style.display =\n",
              "        google.colab.kernel.accessAllowed ? 'block' : 'none';\n",
              "\n",
              "      buttonEl.onclick = () => {\n",
              "        google.colab.notebook.generateWithVariable('missing_by_year');\n",
              "      }\n",
              "      })();\n",
              "    </script>\n",
              "  </div>\n",
              "\n",
              "    </div>\n",
              "  </div>\n"
            ],
            "application/vnd.google.colaboratory.intrinsic+json": {
              "type": "dataframe",
              "variable_name": "missing_by_year",
              "summary": "{\n  \"name\": \"missing_by_year\",\n  \"rows\": 20,\n  \"fields\": [\n    {\n      \"column\": \"YEAR\",\n      \"properties\": {\n        \"dtype\": \"number\",\n        \"std\": 5,\n        \"min\": 2000,\n        \"max\": 2019,\n        \"num_unique_values\": 20,\n        \"samples\": [\n          2000,\n          2017,\n          2015\n        ],\n        \"semantic_type\": \"\",\n        \"description\": \"\"\n      }\n    },\n    {\n      \"column\": \"BENCH\",\n      \"properties\": {\n        \"dtype\": \"number\",\n        \"std\": 9,\n        \"min\": 0,\n        \"max\": 34,\n        \"num_unique_values\": 9,\n        \"samples\": [\n          32,\n          2,\n          34\n        ],\n        \"semantic_type\": \"\",\n        \"description\": \"\"\n      }\n    },\n    {\n      \"column\": \"LANE\",\n      \"properties\": {\n        \"dtype\": \"number\",\n        \"std\": 3,\n        \"min\": 0,\n        \"max\": 10,\n        \"num_unique_values\": 9,\n        \"samples\": [\n          9,\n          1,\n          8\n        ],\n        \"semantic_type\": \"\",\n        \"description\": \"\"\n      }\n    },\n    {\n      \"column\": \"SPRINT\",\n      \"properties\": {\n        \"dtype\": \"number\",\n        \"std\": 3,\n        \"min\": 0,\n        \"max\": 10,\n        \"num_unique_values\": 11,\n        \"samples\": [\n          5,\n          3,\n          9\n        ],\n        \"semantic_type\": \"\",\n        \"description\": \"\"\n      }\n    },\n    {\n      \"column\": \"PDHGT\",\n      \"properties\": {\n        \"dtype\": \"number\",\n        \"std\": 3,\n        \"min\": 0,\n        \"max\": 10,\n        \"num_unique_values\": 10,\n        \"samples\": [\n          9,\n          0,\n          8\n        ],\n        \"semantic_type\": \"\",\n        \"description\": \"\"\n      }\n    },\n    {\n      \"column\": \"LPVERT\",\n      \"properties\": {\n        \"dtype\": \"number\",\n        \"std\": 3,\n        \"min\": 0,\n        \"max\": 10,\n        \"num_unique_values\": 10,\n        \"samples\": [\n          9,\n          0,\n          8\n        ],\n        \"semantic_type\": \"\",\n        \"description\": \"\"\n      }\n    },\n    {\n      \"column\": \"PBHGT\",\n      \"properties\": {\n        \"dtype\": \"number\",\n        \"std\": 3,\n        \"min\": 0,\n        \"max\": 10,\n        \"num_unique_values\": 10,\n        \"samples\": [\n          9,\n          0,\n          8\n        ],\n        \"semantic_type\": \"\",\n        \"description\": \"\"\n      }\n    },\n    {\n      \"column\": \"STNDVERT\",\n      \"properties\": {\n        \"dtype\": \"number\",\n        \"std\": 3,\n        \"min\": 0,\n        \"max\": 10,\n        \"num_unique_values\": 10,\n        \"samples\": [\n          9,\n          0,\n          8\n        ],\n        \"semantic_type\": \"\",\n        \"description\": \"\"\n      }\n    },\n    {\n      \"column\": \"BF\",\n      \"properties\": {\n        \"dtype\": \"number\",\n        \"std\": 9,\n        \"min\": 0,\n        \"max\": 29,\n        \"num_unique_values\": 5,\n        \"samples\": [\n          1,\n          29,\n          28\n        ],\n        \"semantic_type\": \"\",\n        \"description\": \"\"\n      }\n    }\n  ]\n}"
            }
          },
          "metadata": {},
          "execution_count": 61
        }
      ]
    },
    {
      "cell_type": "code",
      "source": [
        "from sklearn.ensemble import RandomForestRegressor\n",
        "\n",
        "df_imputed = draft_prediction.copy()\n",
        "skip_bf_years = [2000, 2002, 2005]\n",
        "\n",
        "predictor_map = {\n",
        "    'BF': ['BMI', 'HGT'],\n",
        "    'STNDVERT': ['LPVERT', 'SPRINT'],\n",
        "    'college_trb': ['HGT', 'college_orb', 'PDHGT'],\n",
        "    'college_ast': ['college_stl', 'college_tov', 'college_mp_per_g'],\n",
        "    'college_pts': ['college_fg', 'college_fga', 'college_ft'],\n",
        "    'college_tov': ['college_stl', 'college_mp_per_g', 'college_mp'],\n",
        "    'BENCH': ['BMI', 'college_orb']\n",
        "}\n",
        "\n",
        "imputed_counts = {}\n",
        "\n",
        "for target, predictors in predictor_map.items():\n",
        "    if target == 'BF':\n",
        "        subset = df_imputed[~df_imputed['YEAR'].isin(skip_bf_years)].copy()\n",
        "    else:\n",
        "        subset = df_imputed.copy()\n",
        "\n",
        "    has_val = subset[subset[target].notna()]\n",
        "    missing_val = subset[subset[target].isna()]\n",
        "\n",
        "    X_train = has_val[predictors].dropna()\n",
        "    y_train = has_val.loc[X_train.index, target]\n",
        "\n",
        "    if len(X_train) < 10:\n",
        "        continue\n",
        "\n",
        "    model = RandomForestRegressor(n_estimators=100, random_state=42)\n",
        "    model.fit(X_train, y_train)\n",
        "\n",
        "    full_missing = df_imputed[df_imputed[target].isna()]\n",
        "    X_missing = full_missing[predictors].dropna()\n",
        "\n",
        "    if not X_missing.empty:\n",
        "        preds = model.predict(X_missing)\n",
        "        df_imputed.loc[X_missing.index, target] = preds\n",
        "        imputed_counts[target] = len(preds)\n",
        "\n",
        "print(imputed_counts)"
      ],
      "metadata": {
        "colab": {
          "base_uri": "https://localhost:8080/"
        },
        "id": "1Eo64_IpfjzR",
        "outputId": "672f09a9-2db0-432d-ccb1-0e6282dc21e0"
      },
      "execution_count": null,
      "outputs": [
        {
          "output_type": "stream",
          "name": "stdout",
          "text": [
            "{'BF': 75, 'BENCH': 137}\n"
          ]
        }
      ]
    },
    {
      "cell_type": "code",
      "source": [
        "from sklearn.neighbors import NearestNeighbors\n",
        "import warnings\n",
        "warnings.filterwarnings(\"ignore\", message=\"X does not have valid feature names\")\n",
        "\n",
        "df_lookalike = df_imputed.copy()\n",
        "\n",
        "knn_feature_map = {\n",
        "    'SPRINT':  ['HGT', 'STNDVERT', 'college_blk'],\n",
        "}\n",
        "\n",
        "if 'POS' in df_lookalike.columns:\n",
        "    df_lookalike = pd.get_dummies(df_lookalike, columns=['POS'], drop_first=True)\n",
        "\n",
        "knn_imputed_counts = {}\n",
        "\n",
        "for target, features in knn_feature_map.items():\n",
        "    available_features = [f for f in features if f in df_lookalike.columns or f.startswith(\"POS_\")]\n",
        "    similarity_features = [f for f in df_lookalike.columns if f in available_features or f.startswith(\"POS_\")]\n",
        "\n",
        "    lookup_data = df_lookalike[similarity_features].dropna()\n",
        "\n",
        "    if lookup_data.empty:\n",
        "        continue\n",
        "\n",
        "    knn = NearestNeighbors(n_neighbors=5)\n",
        "    knn.fit(lookup_data)\n",
        "\n",
        "    missing_idx = df_lookalike[df_lookalike[target].isna()].index\n",
        "    count = 0\n",
        "\n",
        "    for idx in missing_idx:\n",
        "        player_row = df_lookalike.loc[idx, similarity_features]\n",
        "\n",
        "        if player_row.isna().any():\n",
        "            continue\n",
        "\n",
        "        distances, indices = knn.kneighbors([player_row])\n",
        "        neighbor_vals = df_lookalike.loc[lookup_data.iloc[indices[0]].index, target].dropna()\n",
        "\n",
        "        if not neighbor_vals.empty:\n",
        "            df_lookalike.at[idx, target] = neighbor_vals.mean()\n",
        "            count += 1\n",
        "\n",
        "    if count > 0:\n",
        "        knn_imputed_counts[target] = count\n",
        "\n",
        "print(knn_imputed_counts)"
      ],
      "metadata": {
        "colab": {
          "base_uri": "https://localhost:8080/"
        },
        "id": "s-FcTgsxirL5",
        "outputId": "376e0142-56d7-4cc1-dcf5-286458361c5a"
      },
      "execution_count": null,
      "outputs": [
        {
          "output_type": "stream",
          "name": "stdout",
          "text": [
            "{'SPRINT': 5}\n"
          ]
        }
      ]
    },
    {
      "cell_type": "code",
      "source": [
        "pos_columns = [col for col in df_lookalike.columns if col.startswith('POS_')]\n",
        "df_lookalike['imputed_POS'] = df_lookalike[pos_columns].idxmax(axis=1).str.replace('POS_', '')\n",
        "remaining_missing = df_lookalike.columns[df_lookalike.isnull().any()]\n",
        "\n",
        "for col in remaining_missing:\n",
        "    if df_lookalike[col].dtype in ['float64', 'int64']:\n",
        "        df_lookalike[col] = df_lookalike.groupby('imputed_POS')[col].transform(lambda x: x.fillna(x.mean()))"
      ],
      "metadata": {
        "id": "ODeV1ZL-lAYF"
      },
      "execution_count": null,
      "outputs": []
    },
    {
      "cell_type": "code",
      "source": [
        "df_lookalike['WGT'] = pd.to_numeric(df_lookalike['WGT'], errors='coerce')\n",
        "df_lookalike['WGT'] = df_lookalike.groupby('imputed_POS')['WGT'].transform(lambda x: x.fillna(x.mean()))"
      ],
      "metadata": {
        "id": "p8PG9WkYo3OW"
      },
      "execution_count": null,
      "outputs": []
    },
    {
      "cell_type": "code",
      "source": [
        "cols_to_drop = [\n",
        "    'college_fg3a', 'college_ast', 'college_trb', 'college_fga', 'STNDRCH',\n",
        "    'PBHGT', 'college_orb', 'college_pts', \"college_fta\"\n",
        "]\n",
        "\n",
        "df_lookalike = df_lookalike.drop(columns=[col for col in cols_to_drop if col in df_lookalike.columns], errors='ignore')\n"
      ],
      "metadata": {
        "id": "qgO5UVcuYarv"
      },
      "execution_count": null,
      "outputs": []
    },
    {
      "cell_type": "code",
      "source": [
        "# One-hot encoding\n",
        "#encode_cols = ['POS', 'college_g', 'HANDW', 'college_age', 'HANDL']\n",
        "#df = pd.get_dummies(df, columns=[col for col in encode_cols if col in df.columns], drop_first=True)"
      ],
      "metadata": {
        "id": "l2LlDsHGe117"
      },
      "execution_count": null,
      "outputs": []
    },
    {
      "cell_type": "code",
      "source": [
        "df_lookalike.rename(columns=lambda x: x.strip(), inplace=True)\n",
        "df_lookalike.rename(columns={'year': 'YEAR'}, inplace=True)"
      ],
      "metadata": {
        "id": "ymx5wYnyJVsW"
      },
      "execution_count": null,
      "outputs": []
    },
    {
      "cell_type": "code",
      "source": [
        "print(df_lookalike.columns.unique())\n"
      ],
      "metadata": {
        "colab": {
          "base_uri": "https://localhost:8080/"
        },
        "id": "s4aWbwoDgcHU",
        "outputId": "4633f97d-78d7-40c1-e73b-9445edf78e08"
      },
      "execution_count": null,
      "outputs": [
        {
          "output_type": "stream",
          "name": "stdout",
          "text": [
            "Index(['name', 'YEAR', 'HGT', 'WGT', 'BMI', 'BF', 'WNGSPN', 'STNDVERT',\n",
            "       'LPVERT', 'LANE', 'SPRINT', 'BENCH', 'BAR', 'PDHGT', 'college_age',\n",
            "       'college_id', 'college_g', 'college_mp', 'college_fg', 'college_fg3',\n",
            "       'college_ft', 'college_stl', 'college_blk', 'college_tov', 'college_pf',\n",
            "       'college_fg_pct', 'college_fg3_pct', 'college_ft_pct',\n",
            "       'college_mp_per_g', 'college_pts_per_g', 'college_trb_per_g',\n",
            "       'college_ast_per_g', 'college_player_html', 'season', 'Draft_Year',\n",
            "       'performance_rank', 'Conference', 'ReputationScore', 'POS_C-PF',\n",
            "       'POS_PF', 'POS_PF-C', 'POS_PF-SF', 'POS_PG', 'POS_PG-SG', 'POS_SF',\n",
            "       'POS_SF-PF', 'POS_SF-SG', 'POS_SG', 'POS_SG-PG', 'POS_SG-SF',\n",
            "       'imputed_POS'],\n",
            "      dtype='object')\n"
          ]
        }
      ]
    },
    {
      "cell_type": "code",
      "source": [
        "df_lookalike['college_id'] = df_lookalike['college_id'].astype(str).str.strip().str.upper()\n",
        "team_success['Team'] = team_success['Team'].astype(str).str.strip().str.upper()\n",
        "\n",
        "df_lookalike['YEAR'] = df_lookalike['YEAR'].astype(int)\n",
        "team_success['Year'] = team_success['Year'].astype(int)"
      ],
      "metadata": {
        "id": "3uATzIt9MLHz"
      },
      "execution_count": null,
      "outputs": []
    },
    {
      "cell_type": "code",
      "source": [
        "df_lookalike = df_lookalike.merge(\n",
        "    team_success[['Year', 'Team', 'PTS']],\n",
        "    left_on=['YEAR', 'college_id'],\n",
        "    right_on=['Year', 'Team'],\n",
        "    how='left'\n",
        ")\n",
        "df_lookalike['PTS'] = df_lookalike['PTS'].fillna(0)\n",
        "df_lookalike.rename(columns={'PTS': 'Team_success'}, inplace=True)"
      ],
      "metadata": {
        "id": "oNSZaWQBGy74"
      },
      "execution_count": null,
      "outputs": []
    },
    {
      "cell_type": "code",
      "source": [
        "print(df_lookalike.head())"
      ],
      "metadata": {
        "colab": {
          "base_uri": "https://localhost:8080/"
        },
        "id": "-7GTfonohIIG",
        "outputId": "f7cc256e-2ca0-477e-c3c2-9b762a10bfe3"
      },
      "execution_count": null,
      "outputs": [
        {
          "output_type": "stream",
          "name": "stdout",
          "text": [
            "                       name  YEAR    HGT    WGT    BMI     BF  WNGSPN  \\\n",
            "0  Nickeil Alexander-Walker  2019  76.25  203.8  24.64  0.059   81.50   \n",
            "1                   Bol Bol  2019  84.75  208.0  20.36  0.071   91.00   \n",
            "2               Jordan Bone  2019  73.50  179.0  23.29  0.050   75.25   \n",
            "3          Ignas Brazdeikis  2019  77.75  220.8  25.68  0.060   81.25   \n",
            "4            Brandon Clarke  2019  79.25  207.2  23.19  0.049   80.25   \n",
            "\n",
            "    STNDVERT     LPVERT       LANE  ...  POS_SF  POS_SF-PF  POS_SF-SG  POS_SG  \\\n",
            "0  30.493421  36.684211  11.030411  ...   False      False      False    True   \n",
            "1  28.114583  31.958333  11.861667  ...   False      False      False   False   \n",
            "2  36.000000  42.500000   9.970000  ...   False      False      False    True   \n",
            "3  31.000000  36.500000  11.060000  ...    True      False      False   False   \n",
            "4  34.000000  40.500000  10.610000  ...    True      False      False   False   \n",
            "\n",
            "   POS_SG-PG POS_SG-SF  imputed_POS    Year       Team  Team_success  \n",
            "0      False     False           SG     NaN        NaN           0.0  \n",
            "1      False     False         C-PF  2019.0     OREGON         117.0  \n",
            "2      False     False           SG  2019.0  TENNESSEE         535.0  \n",
            "3      False     False           SF  2019.0   MICHIGAN         485.0  \n",
            "4      False     False           SF  2019.0    GONZAGA         633.0  \n",
            "\n",
            "[5 rows x 54 columns]\n"
          ]
        }
      ]
    },
    {
      "cell_type": "code",
      "source": [
        "df_lookalike.drop(columns=['Year', 'Team'], inplace=True)"
      ],
      "metadata": {
        "id": "kGWJTVsEGKo6"
      },
      "execution_count": null,
      "outputs": []
    },
    {
      "cell_type": "code",
      "source": [
        "import numpy as np\n",
        "import pandas as pd\n",
        "from sklearn.preprocessing import StandardScaler\n",
        "from scipy.stats import spearmanr\n",
        "import seaborn as sns\n",
        "import matplotlib.pyplot as plt\n",
        "import statsmodels.api as sm\n",
        "\n",
        "base_columns = [\n",
        "    'POS', 'HGT', 'WGT', 'BMI', 'BF', 'WNGSPN', 'STNDRCH',\n",
        "    'STNDVERT', 'LPVERT', 'LANE', 'BENCH', 'BAR', 'PBHGT', 'PDHGT', 'college_age',\n",
        "    'college_g', 'college_mp', 'college_fg', 'college_fga', 'college_fg3',\n",
        "    'college_fg3a', 'college_ft', 'college_fta', 'college_orb',\n",
        "    'college_trb', 'college_ast', 'college_stl', 'college_blk',\n",
        "    'college_tov', 'college_pf', 'college_pts', 'college_fg_pct',\n",
        "    'college_fg3_pct', 'college_ft_pct', 'college_mp_per_g',\n",
        "    'college_pts_per_g', 'college_trb_per_g', 'college_ast_per_g',\n",
        "    'ReputationScore', 'draft_year', 'YEAR', 'Team_success'\n",
        "]\n",
        "\n",
        "df = df_lookalike.copy()\n",
        "df['VERT_SUM'] = df['STNDVERT'] + df['LPVERT']\n",
        "df.drop(columns=['STNDVERT', 'LPVERT'], inplace=True, errors='ignore')\n",
        "\n",
        "usable_cols = [col for col in base_columns if col in df.columns]\n",
        "usable_cols.append('VERT_SUM')\n",
        "usable_cols = list(set(usable_cols))\n",
        "\n",
        "df = df[usable_cols + ['performance_rank']].copy()\n",
        "\n",
        "for col in df.columns:\n",
        "    if df[col].dtype == 'object':\n",
        "        df[col] = pd.to_numeric(df[col], errors='coerce')\n",
        "\n",
        "df = df.dropna()\n",
        "if len(df) < 10:\n",
        "    raise ValueError(\"Not enough data after cleaning.\")\n",
        "\n",
        "correlations = df.corr(numeric_only=True)['performance_rank'].drop('performance_rank')\n",
        "\n",
        "sorted_corr = correlations.reindex(correlations.abs().sort_values(ascending=False).index)\n",
        "\n",
        "print(\"Correlation of each feature with performance_rank:\\n\")\n",
        "for col, corr in sorted_corr.items():\n",
        "    print(f\"{col:<30} {corr:>7.4f}\")"
      ],
      "metadata": {
        "colab": {
          "base_uri": "https://localhost:8080/"
        },
        "id": "6nfm7Gyb6QyV",
        "outputId": "c9a66971-b578-43f0-9324-71ad7993ef81"
      },
      "execution_count": null,
      "outputs": [
        {
          "output_type": "stream",
          "name": "stdout",
          "text": [
            "Correlation of each feature with performance_rank:\n",
            "\n",
            "college_age                     0.2723\n",
            "college_stl                    -0.1802\n",
            "Team_success                   -0.1511\n",
            "ReputationScore                -0.1277\n",
            "college_fg                     -0.1252\n",
            "college_ft                     -0.1187\n",
            "YEAR                            0.1170\n",
            "LANE                            0.0959\n",
            "college_pts_per_g              -0.0955\n",
            "college_tov                    -0.0865\n",
            "college_mp                     -0.0842\n",
            "college_ast_per_g              -0.0837\n",
            "VERT_SUM                       -0.0807\n",
            "college_g                      -0.0682\n",
            "WNGSPN                          0.0618\n",
            "HGT                             0.0525\n",
            "college_mp_per_g               -0.0452\n",
            "BENCH                           0.0395\n",
            "college_ft_pct                 -0.0350\n",
            "college_fg_pct                 -0.0314\n",
            "BMI                            -0.0310\n",
            "college_pf                     -0.0275\n",
            "BAR                             0.0256\n",
            "college_trb_per_g              -0.0246\n",
            "WGT                             0.0193\n",
            "college_fg3                    -0.0192\n",
            "college_fg3_pct                 0.0191\n",
            "BF                              0.0169\n",
            "college_blk                     0.0160\n",
            "PDHGT                           0.0028\n"
          ]
        }
      ]
    },
    {
      "cell_type": "code",
      "source": [
        "train_df = df[df['YEAR'] <= 2017]\n",
        "test_df = df[df['YEAR'] > 2017]\n",
        "\n",
        "X_train = train_df.drop(columns=['performance_rank'])\n",
        "y_train = train_df['performance_rank']\n",
        "X_test = test_df.drop(columns=['performance_rank'])\n",
        "y_test = test_df['performance_rank']\n",
        "\n",
        "X_train['year_scaled'] = (X_train['YEAR'] - X_train['YEAR'].min()) / (X_train['YEAR'].max() - X_train['YEAR'].min())\n",
        "X_test['year_scaled'] = (X_test['YEAR'] - X_train['YEAR'].min()) / (X_train['YEAR'].max() - X_train['YEAR'].min())\n",
        "\n",
        "X_train = X_train.drop(columns=['YEAR'])\n",
        "X_test = X_test.drop(columns=['YEAR'])\n",
        "\n",
        "scaler = StandardScaler()\n",
        "X_train_scaled = scaler.fit_transform(X_train)\n",
        "X_test_scaled = scaler.transform(X_test)\n",
        "\n",
        "corr_matrix = pd.DataFrame(X_train_scaled, columns=X_train.columns).corr()\n",
        "plt.figure(figsize=(14, 10))\n",
        "sns.heatmap(corr_matrix, cmap='coolwarm', center=0, annot=False)\n",
        "plt.title(\"Correlation Matrix\")\n",
        "plt.show()\n",
        "\n",
        "high_corr_pairs = []\n",
        "threshold = 0.85\n",
        "for i in range(len(corr_matrix.columns)):\n",
        "    for j in range(i):\n",
        "        if abs(corr_matrix.iloc[i, j]) > threshold:\n",
        "            col1 = corr_matrix.columns[i]\n",
        "            col2 = corr_matrix.columns[j]\n",
        "            high_corr_pairs.append((col1, col2, corr_matrix.iloc[i, j]))\n",
        "\n",
        "print(\"\\nHighly Correlated Feature Pairs (>|0.85|):\")\n",
        "for col1, col2, corr in sorted(high_corr_pairs, key=lambda x: -abs(x[2])):\n",
        "    print(f\"{col1} and {col2}: {corr:.2f}\")"
      ],
      "metadata": {
        "colab": {
          "base_uri": "https://localhost:8080/",
          "height": 1000
        },
        "id": "GQ6xi4GwQzuw",
        "outputId": "a7197e2f-9e70-4105-9237-61bcf9a63887"
      },
      "execution_count": null,
      "outputs": [
        {
          "output_type": "display_data",
          "data": {
            "text/plain": [
              "<Figure size 1400x1000 with 2 Axes>"
            ],
            "image/png": "[encoded data removed]"
          },
          "metadata": {}
        },
        {
          "output_type": "stream",
          "name": "stdout",
          "text": [
            "\n",
            "Highly Correlated Feature Pairs (>|0.85|):\n"
          ]
        }
      ]
    },
    {
      "cell_type": "code",
      "source": [
        "X_train_sm = sm.add_constant(X_train_scaled)\n",
        "X_test_sm = sm.add_constant(X_test_scaled)\n",
        "\n",
        "model = sm.OLS(y_train, X_train_sm).fit()\n",
        "preds = model.get_prediction(X_test_sm)\n",
        "pred_summary = preds.summary_frame(alpha=0.05)\n",
        "\n",
        "y_pred = pred_summary['mean'].values\n",
        "\n",
        "lae = np.mean(np.abs(np.log1p(y_test) - np.log1p(y_pred)))\n",
        "weights = 1 / (y_test + 1)\n",
        "iwe = np.mean(weights * np.abs(y_test - y_pred))\n",
        "\n",
        "spearman_corr, _ = spearmanr(y_test, y_pred)\n",
        "\n",
        "print(\"\\nCustom Evaluation Metrics (Linear Model w/ CI + Drift Awareness):\")\n",
        "print(f\"Logarithmic Absolute Error (LAE): {lae:.4f}\")\n",
        "print(f\"Inverse Weighted Error (IWE): {iwe:.4f}\")\n",
        "print(f\"Spearman Rank Correlation: {spearman_corr:.4f}\")"
      ],
      "metadata": {
        "colab": {
          "base_uri": "https://localhost:8080/"
        },
        "id": "xcBxOqj7YnwL",
        "outputId": "dd99beac-4991-4ce5-906d-3dfb53479a64"
      },
      "execution_count": null,
      "outputs": [
        {
          "output_type": "stream",
          "name": "stdout",
          "text": [
            "\n",
            "Custom Evaluation Metrics (Linear Model w/ CI + Drift Awareness):\n",
            "Logarithmic Absolute Error (LAE): 0.5542\n",
            "Inverse Weighted Error (IWE): 0.8880\n",
            "Spearman Rank Correlation: 0.3092\n"
          ]
        }
      ]
    },
    {
      "cell_type": "code",
      "source": [
        "from sklearn.linear_model import Ridge\n",
        "from sklearn.metrics import r2_score\n",
        "\n",
        "X_train_ridge = train_df.drop(columns=['performance_rank', 'YEAR']).copy()\n",
        "X_test_ridge = test_df.drop(columns=['performance_rank', 'YEAR']).copy()\n",
        "\n",
        "X_train_ridge['year_scaled'] = (train_df['YEAR'] - df['YEAR'].min()) / (df['YEAR'].max() - df['YEAR'].min())\n",
        "X_test_ridge['year_scaled'] = (test_df['YEAR'] - df['YEAR'].min()) / (df['YEAR'].max() - df['YEAR'].min())\n",
        "\n",
        "y_train_ridge = train_df['performance_rank']\n",
        "y_test_ridge = test_df['performance_rank']\n",
        "\n",
        "scaler_ridge = StandardScaler()\n",
        "X_train_scaled_ridge = scaler_ridge.fit_transform(X_train_ridge)\n",
        "X_test_scaled_ridge = scaler_ridge.transform(X_test_ridge)\n",
        "\n",
        "best_r2 = -np.inf\n",
        "best_alpha = None\n",
        "best_y_pred = None\n",
        "best_model = None\n",
        "\n",
        "print(\"\\nRidge Regression Tuning:\\n\")\n",
        "\n",
        "for alpha in [0.01, 0.1, 1, 10, 100]:\n",
        "    ridge = Ridge(alpha=alpha)\n",
        "    ridge.fit(X_train_scaled_ridge, y_train_ridge)\n",
        "    y_pred_ridge = ridge.predict(X_test_scaled_ridge)\n",
        "    r2 = r2_score(y_test_ridge, y_pred_ridge)\n",
        "    print(f\"Alpha = {alpha} | R²: {r2:.4f}\")\n",
        "\n",
        "    if r2 > best_r2:\n",
        "        best_r2 = r2\n",
        "        best_alpha = alpha\n",
        "        best_y_pred = y_pred_ridge\n",
        "        best_model = ridge\n",
        "\n",
        "lae_ridge = np.mean(np.abs(np.log1p(y_test_ridge) - np.log1p(best_y_pred)))\n",
        "weights_ridge = 1 / (y_test_ridge + 1)\n",
        "iwe_ridge = np.mean(weights_ridge * np.abs(y_test_ridge - best_y_pred))\n",
        "\n",
        "spearman_corr_ridge, _ = spearmanr(y_test_ridge, best_y_pred)\n",
        "\n",
        "print(\"\\nCustom Evaluation Metrics (Best Ridge Model):\")\n",
        "print(f\"Best Alpha: {best_alpha}\")\n",
        "print(f\"R² Score: {best_r2:.4f}\")\n",
        "print(f\"Logarithmic Absolute Error (LAE): {lae_ridge:.4f}\")\n",
        "print(f\"Inverse Weighted Error (IWE): {iwe_ridge:.4f}\")\n",
        "print(f\"Spearman Rank Correlation: {spearman_corr_ridge:.4f}\")"
      ],
      "metadata": {
        "colab": {
          "base_uri": "https://localhost:8080/"
        },
        "id": "0PIWIdEQaoOo",
        "outputId": "b373aab0-1fd3-45bf-b9d3-97712dca7e29"
      },
      "execution_count": null,
      "outputs": [
        {
          "output_type": "stream",
          "name": "stdout",
          "text": [
            "\n",
            "Ridge Regression Tuning:\n",
            "\n",
            "Alpha = 0.01 | R²: 0.0665\n",
            "Alpha = 0.1 | R²: 0.0676\n",
            "Alpha = 1 | R²: 0.0723\n",
            "Alpha = 10 | R²: 0.0736\n",
            "Alpha = 100 | R²: 0.0718\n",
            "\n",
            "Custom Evaluation Metrics (Best Ridge Model):\n",
            "Best Alpha: 10\n",
            "R² Score: 0.0736\n",
            "Logarithmic Absolute Error (LAE): 0.5554\n",
            "Inverse Weighted Error (IWE): 0.8841\n",
            "Spearman Rank Correlation: 0.3139\n"
          ]
        }
      ]
    },
    {
      "cell_type": "code",
      "source": [
        "from sklearn.linear_model import Lasso\n",
        "from sklearn.metrics import r2_score\n",
        "\n",
        "X_train_lasso = train_df.drop(columns=['performance_rank', 'YEAR']).copy()\n",
        "X_test_lasso = test_df.drop(columns=['performance_rank', 'YEAR']).copy()\n",
        "\n",
        "X_train_lasso['year_scaled'] = (train_df['YEAR'] - df['YEAR'].min()) / (df['YEAR'].max() - df['YEAR'].min())\n",
        "X_test_lasso['year_scaled'] = (test_df['YEAR'] - df['YEAR'].min()) / (df['YEAR'].max() - df['YEAR'].min())\n",
        "\n",
        "y_train_lasso = train_df['performance_rank']\n",
        "y_test_lasso = test_df['performance_rank']\n",
        "\n",
        "scaler_lasso = StandardScaler()\n",
        "X_train_scaled_lasso = scaler_lasso.fit_transform(X_train_lasso)\n",
        "X_test_scaled_lasso = scaler_lasso.transform(X_test_lasso)\n",
        "\n",
        "best_r2 = -np.inf\n",
        "best_alpha = None\n",
        "best_y_pred = None\n",
        "best_model = None\n",
        "\n",
        "alphas = [0.01, 0.05, 0.075, 0.1, 0.125, 0.15]\n",
        "\n",
        "print(\"\\nLasso Regression Tuning:\\n\")\n",
        "\n",
        "for alpha in alphas:\n",
        "    lasso = Lasso(alpha=alpha, max_iter=50000, tol=1e-4)\n",
        "    lasso.fit(X_train_scaled_lasso, y_train_lasso)\n",
        "    y_pred_lasso = lasso.predict(X_test_scaled_lasso)\n",
        "    r2 = r2_score(y_test_lasso, y_pred_lasso)\n",
        "    print(f\"Alpha = {alpha} | R²: {r2:.4f}\")\n",
        "\n",
        "    if r2 > best_r2:\n",
        "        best_r2 = r2\n",
        "        best_alpha = alpha\n",
        "        best_y_pred = y_pred_lasso\n",
        "        best_model = lasso\n",
        "\n",
        "lae_lasso = np.mean(np.abs(np.log1p(y_test_lasso) - np.log1p(best_y_pred)))\n",
        "weights_lasso = 1 / (y_test_lasso + 1)\n",
        "iwe_lasso = np.mean(weights_lasso * np.abs(y_test_lasso - best_y_pred))\n",
        "\n",
        "spearman_corr_lasso, _ = spearmanr(y_test_lasso, best_y_pred)\n",
        "\n",
        "print(\"\\nCustom Evaluation Metrics (Best Lasso Model):\")\n",
        "print(f\"Best Alpha: {best_alpha}\")\n",
        "print(f\"R² Score: {best_r2:.4f}\")\n",
        "print(f\"Logarithmic Absolute Error (LAE): {lae_lasso:.4f}\")\n",
        "print(f\"Inverse Weighted Error (IWE): {iwe_lasso:.4f}\")\n",
        "print(f\"Spearman Rank Correlation: {spearman_corr_lasso:.4f}\")"
      ],
      "metadata": {
        "colab": {
          "base_uri": "https://localhost:8080/"
        },
        "id": "X86HbYvNaoQt",
        "outputId": "05f3bb1e-ff7d-49a3-9bc7-904e3cfa6d2f"
      },
      "execution_count": null,
      "outputs": [
        {
          "output_type": "stream",
          "name": "stdout",
          "text": [
            "\n",
            "Lasso Regression Tuning:\n",
            "\n",
            "Alpha = 0.01 | R²: 0.0748\n",
            "Alpha = 0.05 | R²: 0.0733\n",
            "Alpha = 0.075 | R²: 0.0763\n",
            "Alpha = 0.1 | R²: 0.0783\n",
            "Alpha = 0.125 | R²: 0.0793\n",
            "Alpha = 0.15 | R²: 0.0799\n",
            "\n",
            "Custom Evaluation Metrics (Best Lasso Model):\n",
            "Best Alpha: 0.15\n",
            "R² Score: 0.0799\n",
            "Logarithmic Absolute Error (LAE): 0.5588\n",
            "Inverse Weighted Error (IWE): 0.8944\n",
            "Spearman Rank Correlation: 0.3328\n"
          ]
        }
      ]
    },
    {
      "cell_type": "code",
      "source": [
        "y_true = np.array(y_test_ridge).flatten()\n",
        "y_pred = np.array(best_y_pred).flatten()\n",
        "\n",
        "abs_error = np.abs(y_true - y_pred)\n",
        "\n",
        "within_3 = np.mean(abs_error <= 3) * 100\n",
        "within_5 = np.mean(abs_error <= 5) * 100\n",
        "within_10 = np.mean(abs_error <= 10) * 100\n",
        "within_15 = np.mean(abs_error <= 15) * 100\n",
        "within_20 = np.mean(abs_error <= 20) * 100\n",
        "\n",
        "print(\"\\nPrediction Accuracy Ranges (Best Ridge Model):\")\n",
        "print(f\"Within ±3 picks:  {within_3:.2f}%\")\n",
        "print(f\"Within ±5 picks:  {within_5:.2f}%\")\n",
        "print(f\"Within ±10 picks: {within_10:.2f}%\")\n",
        "print(f\"Within ±15 picks: {within_15:.2f}%\")\n",
        "print(f\"Within ±20 picks: {within_20:.2f}%\")"
      ],
      "metadata": {
        "colab": {
          "base_uri": "https://localhost:8080/"
        },
        "id": "dXm2icBKr7UB",
        "outputId": "a04e34ac-5f40-4de0-a3ea-4c5304ffcc54"
      },
      "execution_count": null,
      "outputs": [
        {
          "output_type": "stream",
          "name": "stdout",
          "text": [
            "\n",
            "Prediction Accuracy Ranges (Best Ridge Model):\n",
            "Within ±3 picks:  11.76%\n",
            "Within ±5 picks:  19.12%\n",
            "Within ±10 picks: 42.65%\n",
            "Within ±15 picks: 57.35%\n",
            "Within ±20 picks: 83.82%\n"
          ]
        }
      ]
    },
    {
      "cell_type": "code",
      "source": [
        "plt.figure(figsize=(8,5))\n",
        "plt.hist(abs_error, bins=30, edgecolor='black')\n",
        "plt.axvline(3, color='green', linestyle='--', label='±3')\n",
        "plt.axvline(5, color='blue', linestyle='--', label='±5')\n",
        "plt.axvline(10, color='red', linestyle='--', label='±10')\n",
        "plt.title(\"Distribution of Absolute Prediction Error (Ridge Model)\")\n",
        "plt.xlabel(\"Absolute Error (|Actual - Predicted|)\")\n",
        "plt.ylabel(\"Number of Players\")\n",
        "plt.legend()\n",
        "plt.grid(True)\n",
        "plt.show()"
      ],
      "metadata": {
        "colab": {
          "base_uri": "https://localhost:8080/",
          "height": 488
        },
        "id": "U4cA8pPBkUsl",
        "outputId": "d50dd9b3-ace9-49cc-df2d-88bf63175cee"
      },
      "execution_count": null,
      "outputs": [
        {
          "output_type": "display_data",
          "data": {
            "text/plain": [
              "<Figure size 800x500 with 1 Axes>"
            ],
            "image/png": "[encoded data removed]"
          },
          "metadata": {}
        }
      ]
    },
    {
      "cell_type": "code",
      "source": [
        "sample_players = X_test_ridge.sample(10, random_state=42)\n",
        "sample_y_true = y_test_ridge.loc[sample_players.index]\n",
        "sample_names = draft_prediction.loc[sample_players.index, 'name']\n",
        "\n",
        "sample_scaled = scaler_ridge.transform(sample_players)\n",
        "ridge_sample = best_model.predict(sample_scaled)\n",
        "\n",
        "predictions_df = pd.DataFrame({\n",
        "    'Name': sample_names.values,\n",
        "    'Actual Pick': sample_y_true.values,\n",
        "    'Ridge Predicted Pick': np.clip(np.round(ridge_sample, 2), 1, None)\n",
        "})\n",
        "\n",
        "print(\"\\n10 Random Player Predictions (Best Ridge Model):\")\n",
        "print(predictions_df.to_string(index=False))"
      ],
      "metadata": {
        "colab": {
          "base_uri": "https://localhost:8080/"
        },
        "id": "hR92UgSwkWR_",
        "outputId": "fffd106c-8de9-4f5c-9ffb-6cb0d29119b6"
      },
      "execution_count": null,
      "outputs": [
        {
          "output_type": "stream",
          "name": "stdout",
          "text": [
            "\n",
            "10 Random Player Predictions (Best Ridge Model):\n",
            "            Name  Actual Pick  Ridge Predicted Pick\n",
            "Donte DiVincenzo         12.0                 22.80\n",
            "  Keldon Johnson          5.0                 21.97\n",
            "  Brandon Clarke         14.0                 18.38\n",
            "        Kyle Guy         41.0                 24.74\n",
            "Kevin Porter Jr.          8.0                 27.02\n",
            "   Miles Bridges          7.0                 23.02\n",
            "     Josh Okogie         29.0                 19.81\n",
            "  Jarrett Culver         39.0                 19.61\n",
            "   Landry Shamet         18.0                 30.37\n",
            "     Tyler Herro          4.0                 18.06\n"
          ]
        }
      ]
    },
    {
      "cell_type": "code",
      "source": [
        "feature_names = list(train_df.drop(columns=['performance_rank', 'YEAR']).columns) + ['year_scaled']\n",
        "\n",
        "ridge_coefficients = best_model.coef_\n",
        "\n",
        "importance_df = pd.DataFrame({\n",
        "    'Feature': feature_names,\n",
        "    'Ridge Coefficient': ridge_coefficients\n",
        "}).sort_values(by='Ridge Coefficient', key=abs, ascending=False)\n",
        "\n",
        "print(\"\\nFeature Importances (Ridge Coefficients):\")\n",
        "print(importance_df.to_string(index=False))"
      ],
      "metadata": {
        "colab": {
          "base_uri": "https://localhost:8080/"
        },
        "id": "xWVXO5Aker_p",
        "outputId": "aed79cbb-965a-4b99-8139-b1eb94bb30b8"
      },
      "execution_count": null,
      "outputs": [
        {
          "output_type": "stream",
          "name": "stdout",
          "text": [
            "\n",
            "Feature Importances (Ridge Coefficients):\n",
            "          Feature  Ridge Coefficient\n",
            "      college_age           4.204368\n",
            "      college_stl          -2.715847\n",
            "   college_fg_pct          -1.854901\n",
            "     Team_success          -1.766109\n",
            "      year_scaled           1.498195\n",
            "college_pts_per_g          -1.294596\n",
            "  ReputationScore          -1.155745\n",
            "             LANE           1.093409\n",
            "   college_ft_pct          -0.968638\n",
            "            BENCH           0.866363\n",
            "college_trb_per_g          -0.860973\n",
            "              WGT          -0.835767\n",
            "       college_fg          -0.797757\n",
            "         VERT_SUM          -0.634681\n",
            "            PDHGT          -0.425689\n",
            "       college_mp           0.399315\n",
            "       college_pf           0.315850\n",
            "college_ast_per_g          -0.306892\n",
            "              BMI          -0.298820\n",
            "  college_fg3_pct           0.261968\n",
            "               BF           0.236309\n",
            "      college_tov           0.208932\n",
            "      college_fg3          -0.159737\n",
            "        college_g           0.017289\n",
            "              BAR          -0.000000\n",
            "       college_ft           0.000000\n",
            "      college_blk          -0.000000\n",
            " college_mp_per_g           0.000000\n",
            "           WNGSPN          -0.000000\n",
            "              HGT          -0.000000\n"
          ]
        }
      ]
    }
  ]
}